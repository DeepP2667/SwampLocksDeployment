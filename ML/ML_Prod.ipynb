{
 "cells": [
  {
   "cell_type": "code",
   "execution_count": 1,
   "id": "829aa181",
   "metadata": {},
   "outputs": [
    {
     "name": "stdout",
     "output_type": "stream",
     "text": [
      "------------\n",
      "### Python version: 3.10.9 (main, Mar  1 2023, 12:20:14) [Clang 14.0.6 ]\n",
      "### NumPy version: 1.26.0\n",
      "### Scikit-learn version: 1.2.1\n",
      "------------\n"
     ]
    }
   ],
   "source": [
    "import sys\n",
    "import os\n",
    "import time\n",
    "\n",
    "import numpy as np\n",
    "import pandas as pd\n",
    "import sklearn\n",
    "import requests\n",
    "\n",
    "from matplotlib import pyplot as plt\n",
    "plt.rcParams.update({'font.size': 16})\n",
    "\n",
    "# Let's check our software versions\n",
    "print('------------')\n",
    "print('### Python version: ' + __import__('sys').version)\n",
    "print('### NumPy version: ' + np.__version__)\n",
    "print('### Scikit-learn version: ' + sklearn.__version__)\n",
    "print('------------')\n",
    "\n",
    "def var_exists(var_name):\n",
    "    return (var_name in globals() or var_name in locals())"
   ]
  },
  {
   "cell_type": "code",
   "execution_count": 2,
   "id": "c811cd2e",
   "metadata": {},
   "outputs": [],
   "source": [
    "# Get tech tickers\n",
    "r = requests.get('https://swamplocksapi.azurewebsites.net/api/Financials/stocks')\n",
    "r.status_code\n",
    "df = pd.DataFrame(r.json())\n",
    "techTickers = []\n",
    "for i in range(463):\n",
    "    if df.iloc[i][1] == 'Information Technology':\n",
    "        techTickers.append(df.iloc[i][0])"
   ]
  },
  {
   "cell_type": "code",
   "execution_count": 3,
   "id": "c22b1f03",
   "metadata": {},
   "outputs": [],
   "source": [
    "# AAPL specific prediction from here down.\n",
    "# Load AAPL's data\n",
    "\n",
    "# AAPL closing price stored in dfAAPLclose\n",
    "r = requests.get('https://swamplocksapi.azurewebsites.net/api/Financials/stocks/AAPL/filtered_data')\n",
    "dfAAPLclose = pd.DataFrame(r.json())\n",
    "dfAAPLclose['date'] = pd.to_datetime(dfAAPLclose['date'])\n",
    "dfAAPLclose = dfAAPLclose.sort_values('date')\n",
    "\n",
    "# 'dfbs' stores AAPL's data from the balance sheet\n",
    "aaplbsURL = 'https://swamplocksapi.azurewebsites.net/api/Financials/balancesheets/AAPL'\n",
    "r = requests.get(aaplbsURL)\n",
    "dfbs = pd.DataFrame(r.json())\n",
    "\n",
    "# 'dfcf' stores AAPL's data from cash flow statement\n",
    "aaplcfURL = 'https://swamplocksapi.azurewebsites.net/api/Financials/cashflowstatements/AAPL'\n",
    "r = requests.get(aaplcfURL)\n",
    "dfcf = pd.DataFrame(r.json())\n",
    "\n",
    "# 'dfe' stores AAPL's data from earnings statement\n",
    "aapleURL = 'https://swamplocksapi.azurewebsites.net/api/Financials/earnings/AAPL'\n",
    "r = requests.get(aapleURL)\n",
    "dfe = pd.DataFrame(r.json())\n",
    "\n",
    "# 'dfis' stores AAPL's data from income statement\n",
    "aaplisURL = 'https://swamplocksapi.azurewebsites.net/api/Financials/incomestatements/AAPL'\n",
    "r = requests.get(aaplisURL)\n",
    "dfis = pd.DataFrame(r.json())"
   ]
  },
  {
   "cell_type": "code",
   "execution_count": 5,
   "id": "919c3169",
   "metadata": {},
   "outputs": [],
   "source": [
    "df_closing_price = dfAAPLclose[['date', 'closingPrice']]"
   ]
  },
  {
   "cell_type": "code",
   "execution_count": 6,
   "id": "df16491c",
   "metadata": {},
   "outputs": [
    {
     "name": "stdout",
     "output_type": "stream",
     "text": [
      "X shape: (62, 7)\n",
      "y shape: (62,)\n",
      "Training set: (37, 7), (37,)\n",
      "Validation set: (12, 7), (12,)\n",
      "Test set: (13, 7), (13,)\n"
     ]
    },
    {
     "name": "stderr",
     "output_type": "stream",
     "text": [
      "/var/folders/8g/_56q3nhs07g6dmqp43hb7tqc0000gn/T/ipykernel_72446/2899205226.py:7: SettingWithCopyWarning: \n",
      "A value is trying to be set on a copy of a slice from a DataFrame.\n",
      "Try using .loc[row_indexer,col_indexer] = value instead\n",
      "\n",
      "See the caveats in the documentation: https://pandas.pydata.org/pandas-docs/stable/user_guide/indexing.html#returning-a-view-versus-a-copy\n",
      "  df_closing_price['date'] = pd.to_datetime(df_closing_price['date'])\n"
     ]
    }
   ],
   "source": [
    "import pandas as pd\n",
    "from sklearn.model_selection import train_test_split\n",
    "# Ensure datetime consistency\n",
    "dfe['fiscalDateEnding'] = pd.to_datetime(dfe['fiscalDateEnding'])\n",
    "dfcf['fiscalDateEnding'] = pd.to_datetime(dfcf['fiscalDateEnding'])\n",
    "dfis['fiscalDateEnding'] = pd.to_datetime(dfis['fiscalDateEnding'])\n",
    "df_closing_price['date'] = pd.to_datetime(df_closing_price['date'])\n",
    "\n",
    "# Create next quarter end date\n",
    "dfe['nextQuarterEnd'] = dfe['fiscalDateEnding'] + pd.DateOffset(months=3)\n",
    "dfcf['nextQuarterEnd'] = dfcf['fiscalDateEnding'] + pd.DateOffset(months=3)\n",
    "dfis['nextQuarterEnd'] = dfis['fiscalDateEnding'] + pd.DateOffset(months=3)\n",
    "\n",
    "# Sort by date\n",
    "dfe = dfe.sort_values('nextQuarterEnd')\n",
    "dfcf = dfcf.sort_values('nextQuarterEnd')\n",
    "dfis = dfis.sort_values('nextQuarterEnd')\n",
    "df_closing_price = df_closing_price.sort_values('date')\n",
    "\n",
    "merged_financials = pd.merge(\n",
    "    dfe[['ticker', 'fiscalDateEnding', 'nextQuarterEnd', 'reportedEPS']],\n",
    "    dfcf[['ticker', 'fiscalDateEnding', 'netIncome', 'paymentsForRepurchaseOfCommonStock', 'profitLoss']],\n",
    "    on=['ticker', 'fiscalDateEnding'],\n",
    "    how='inner'\n",
    ")\n",
    "\n",
    "# now merge the result with dfis\n",
    "merged_financials = pd.merge(\n",
    "    merged_financials,\n",
    "    dfis[['ticker', 'fiscalDateEnding', 'researchAndDevelopment', 'operatingExpenses', 'sellingGeneralAndAdministrative']],\n",
    "    on=['ticker', 'fiscalDateEnding'],\n",
    "    how='inner'\n",
    ")\n",
    "\n",
    "# Merge with closing price using merge_asof\n",
    "final_data = pd.merge_asof(\n",
    "    merged_financials,\n",
    "    df_closing_price,\n",
    "    left_on='nextQuarterEnd',\n",
    "    right_on='date',\n",
    "    direction='forward',\n",
    "    tolerance=pd.Timedelta(\"30 days\")\n",
    ")\n",
    "\n",
    "# Filter out rows without marketCap\n",
    "final_data = final_data.dropna(subset=['closingPrice']).reset_index(drop=True)\n",
    "\"\"\"\n",
    "researchAndDevelopment               0.953399\n",
    "operatingExpenses                    0.935023\n",
    "sellingGeneralAndAdministrative      0.891001\n",
    "\"\"\"\n",
    "# Define features (X) and target (y)  cashFlowFromFinancing paymentsForRepurchaseOfEquity\n",
    "features = ['reportedEPS', 'netIncome', 'paymentsForRepurchaseOfCommonStock', \n",
    "            'profitLoss',\n",
    "            'researchAndDevelopment', 'operatingExpenses', 'sellingGeneralAndAdministrative']\n",
    "X = final_data[features]\n",
    "y = final_data['closingPrice']\n",
    "\n",
    "# Verify shapes\n",
    "print(\"X shape:\", X.shape)  #\n",
    "print(\"y shape:\", y.shape)  # \n",
    "\n",
    "# Split data\n",
    "X_train, X_temp, y_train, y_temp = train_test_split(X, y, test_size=0.4, random_state=42)\n",
    "X_val, X_test, y_val, y_test = train_test_split(X_temp, y_temp, test_size=0.5, random_state=42)\n",
    "\n",
    "# Display shapes\n",
    "print(f'Training set: {X_train.shape}, {y_train.shape}')  # (34, 5), (34,)\n",
    "print(f'Validation set: {X_val.shape}, {y_val.shape}')  # (11, 5), (11,)\n",
    "print(f'Test set: {X_test.shape}, {y_test.shape}')      # (12, 5), (12,)"
   ]
  },
  {
   "cell_type": "code",
   "execution_count": 7,
   "id": "281f6562",
   "metadata": {},
   "outputs": [
    {
     "name": "stdout",
     "output_type": "stream",
     "text": [
      "Best params: {'C': 10, 'gamma': 0.01, 'kernel': 'rbf'}\n",
      "Validation MSE (log scale): 0.015095776818325586\n",
      "Test MSE (log scale): 0.03987756655749405\n",
      "Validation MSE (original scale): 191.21461161683396\n",
      "Test MSE (original scale): 524.6287594191847\n"
     ]
    }
   ],
   "source": [
    "from sklearn.svm import SVR\n",
    "from sklearn.model_selection import GridSearchCV\n",
    "from sklearn.preprocessing import StandardScaler\n",
    "from sklearn.metrics import mean_squared_error\n",
    "import numpy as np\n",
    "\n",
    "# Log-transform y\n",
    "y_log = np.log1p(y)\n",
    "\n",
    "# Split data\n",
    "X_train, X_temp, y_train_log, y_temp_log = train_test_split(X, y_log, test_size=0.4, random_state=42)\n",
    "X_val, X_test, y_val_log, y_test_log = train_test_split(X_temp, y_temp_log, test_size=0.5, random_state=42)\n",
    "\n",
    "# Scale features\n",
    "scaler = StandardScaler()\n",
    "X_train_scaled = scaler.fit_transform(X_train)\n",
    "X_val_scaled = scaler.transform(X_val)\n",
    "X_test_scaled = scaler.transform(X_test)\n",
    "\n",
    "# Grid search for SVR\n",
    "param_grid = {\n",
    "    'C': [10, 100, 1000],\n",
    "    'gamma': [0.01, 0.1, 1],\n",
    "    'kernel': ['rbf']\n",
    "}\n",
    "svm = SVR()\n",
    "grid_search = GridSearchCV(svm, param_grid, cv=5, scoring='neg_mean_squared_error')\n",
    "grid_search.fit(X_train_scaled, y_train_log)\n",
    "\n",
    "# Best model\n",
    "best_svm = grid_search.best_estimator_\n",
    "print(\"Best params:\", grid_search.best_params_)\n",
    "\n",
    "# Predict and evaluate on log scale\n",
    "y_val_pred_log = best_svm.predict(X_val_scaled)\n",
    "val_mse_log = mean_squared_error(y_val_log, y_val_pred_log)\n",
    "print(f\"Validation MSE (log scale): {val_mse_log}\")\n",
    "\n",
    "y_test_pred_log = best_svm.predict(X_test_scaled)\n",
    "test_mse_log = mean_squared_error(y_test_log, y_test_pred_log)\n",
    "print(f\"Test MSE (log scale): {test_mse_log}\")\n",
    "\n",
    "# Convert back to original scale\n",
    "y_val_pred = np.expm1(y_val_pred_log)\n",
    "y_test_pred = np.expm1(y_test_pred_log)\n",
    "val_mse = mean_squared_error(np.expm1(y_val_log), y_val_pred)\n",
    "test_mse = mean_squared_error(np.expm1(y_test_log), y_test_pred)\n",
    "print(f\"Validation MSE (original scale): {val_mse}\")\n",
    "print(f\"Test MSE (original scale): {test_mse}\")"
   ]
  },
  {
   "cell_type": "code",
   "execution_count": 10,
   "id": "1a4e3a8e",
   "metadata": {},
   "outputs": [],
   "source": [
    "\n",
    "# Latest data for prediction (last row of X)\n",
    "latest_data = X.iloc[-1].to_frame().T\n",
    "\n",
    "# Scale and predict for next 2 quarters\n",
    "future_quarters = 1\n",
    "future_X = pd.DataFrame([latest_data.values[0]] * future_quarters, columns=features)\n",
    "future_X_scaled = scaler.transform(future_X)\n",
    "future_log_preds = best_svm.predict(future_X_scaled)\n",
    "future_cp_preds = np.expm1(future_log_preds)"
   ]
  },
  {
   "cell_type": "code",
   "execution_count": 11,
   "id": "291b3f51",
   "metadata": {},
   "outputs": [
    {
     "data": {
      "text/plain": [
       "array([200.9058914])"
      ]
     },
     "execution_count": 11,
     "metadata": {},
     "output_type": "execute_result"
    }
   ],
   "source": [
    "future_cp_preds"
   ]
  },
  {
   "cell_type": "code",
   "execution_count": null,
   "id": "8009653c",
   "metadata": {},
   "outputs": [],
   "source": []
  }
 ],
 "metadata": {
  "kernelspec": {
   "display_name": "Python 3 (ipykernel)",
   "language": "python",
   "name": "python3"
  },
  "language_info": {
   "codemirror_mode": {
    "name": "ipython",
    "version": 3
   },
   "file_extension": ".py",
   "mimetype": "text/x-python",
   "name": "python",
   "nbconvert_exporter": "python",
   "pygments_lexer": "ipython3",
   "version": "3.10.9"
  }
 },
 "nbformat": 4,
 "nbformat_minor": 5
}
