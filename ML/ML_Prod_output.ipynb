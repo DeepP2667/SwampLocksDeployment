{
 "cells": [
  {
   "cell_type": "markdown",
   "id": "4ae22f2f",
   "metadata": {
    "tags": [
     "papermill-error-cell-tag"
    ]
   },
   "source": [
    "<span style=\"color:red; font-family:Helvetica Neue, Helvetica, Arial, sans-serif; font-size:2em;\">An Exception was encountered at '<a href=\"#papermill-error-cell\">In [9]</a>'.</span>"
   ]
  },
  {
   "cell_type": "code",
   "execution_count": 1,
   "id": "32e9494b",
   "metadata": {
    "execution": {
     "iopub.execute_input": "2025-04-10T19:02:50.985210Z",
     "iopub.status.busy": "2025-04-10T19:02:50.984772Z",
     "iopub.status.idle": "2025-04-10T19:02:51.866470Z",
     "shell.execute_reply": "2025-04-10T19:02:51.866162Z"
    },
    "papermill": {
     "duration": 0.889557,
     "end_time": "2025-04-10T19:02:51.867370",
     "exception": false,
     "start_time": "2025-04-10T19:02:50.977813",
     "status": "completed"
    },
    "tags": []
   },
   "outputs": [
    {
     "name": "stdout",
     "output_type": "stream",
     "text": [
      "------------\n",
      "### Python version: 3.10.9 (main, Mar  1 2023, 12:20:14) [Clang 14.0.6 ]\n",
      "### NumPy version: 1.26.0\n",
      "### Scikit-learn version: 1.2.1\n",
      "------------\n"
     ]
    }
   ],
   "source": [
    "import sys\n",
    "import os\n",
    "import time\n",
    "\n",
    "import numpy as np\n",
    "import pandas as pd\n",
    "import sklearn\n",
    "import requests\n",
    "\n",
    "from matplotlib import pyplot as plt\n",
    "plt.rcParams.update({'font.size': 16})\n",
    "\n",
    "# Let's check our software versions\n",
    "print('------------')\n",
    "print('### Python version: ' + __import__('sys').version)\n",
    "print('### NumPy version: ' + np.__version__)\n",
    "print('### Scikit-learn version: ' + sklearn.__version__)\n",
    "print('------------')\n",
    "\n",
    "def var_exists(var_name):\n",
    "    return (var_name in globals() or var_name in locals())"
   ]
  },
  {
   "cell_type": "code",
   "execution_count": 2,
   "id": "2dc8ad5c",
   "metadata": {
    "execution": {
     "iopub.execute_input": "2025-04-10T19:02:51.870293Z",
     "iopub.status.busy": "2025-04-10T19:02:51.870104Z",
     "iopub.status.idle": "2025-04-10T19:02:53.000773Z",
     "shell.execute_reply": "2025-04-10T19:02:53.000217Z"
    },
    "papermill": {
     "duration": 1.13367,
     "end_time": "2025-04-10T19:02:53.002423",
     "exception": false,
     "start_time": "2025-04-10T19:02:51.868753",
     "status": "completed"
    },
    "tags": []
   },
   "outputs": [],
   "source": [
    "# Get tech tickers\n",
    "r = requests.get('https://swamplocksapi.azurewebsites.net/api/Financials/stocks')\n",
    "r.status_code\n",
    "df = pd.DataFrame(r.json())\n",
    "techTickers = []\n",
    "for i in range(463):\n",
    "    if df.iloc[i][1] == 'Information Technology':\n",
    "        techTickers.append(df.iloc[i][0])"
   ]
  },
  {
   "cell_type": "code",
   "execution_count": 3,
   "id": "f4f5d67f",
   "metadata": {
    "execution": {
     "iopub.execute_input": "2025-04-10T19:02:53.007462Z",
     "iopub.status.busy": "2025-04-10T19:02:53.007266Z",
     "iopub.status.idle": "2025-04-10T19:02:57.150204Z",
     "shell.execute_reply": "2025-04-10T19:02:57.149310Z"
    },
    "papermill": {
     "duration": 4.148509,
     "end_time": "2025-04-10T19:02:57.153231",
     "exception": false,
     "start_time": "2025-04-10T19:02:53.004722",
     "status": "completed"
    },
    "tags": []
   },
   "outputs": [],
   "source": [
    "# AAPL specific prediction from here down.\n",
    "# Load AAPL's data\n",
    "\n",
    "# AAPL closing price stored in dfAAPLclose\n",
    "r = requests.get('https://swamplocksapi.azurewebsites.net/api/Financials/stocks/AAPL/filtered_data')\n",
    "dfAAPLclose = pd.DataFrame(r.json())\n",
    "dfAAPLclose['date'] = pd.to_datetime(dfAAPLclose['date'])\n",
    "dfAAPLclose = dfAAPLclose.sort_values('date')\n",
    "\n",
    "# 'dfbs' stores AAPL's data from the balance sheet\n",
    "aaplbsURL = 'https://swamplocksapi.azurewebsites.net/api/Financials/balancesheets/AAPL'\n",
    "r = requests.get(aaplbsURL)\n",
    "dfbs = pd.DataFrame(r.json())\n",
    "\n",
    "# 'dfcf' stores AAPL's data from cash flow statement\n",
    "aaplcfURL = 'https://swamplocksapi.azurewebsites.net/api/Financials/cashflowstatements/AAPL'\n",
    "r = requests.get(aaplcfURL)\n",
    "dfcf = pd.DataFrame(r.json())\n",
    "\n",
    "# 'dfe' stores AAPL's data from earnings statement\n",
    "aapleURL = 'https://swamplocksapi.azurewebsites.net/api/Financials/earnings/AAPL'\n",
    "r = requests.get(aapleURL)\n",
    "dfe = pd.DataFrame(r.json())\n",
    "\n",
    "# 'dfis' stores AAPL's data from income statement\n",
    "aaplisURL = 'https://swamplocksapi.azurewebsites.net/api/Financials/incomestatements/AAPL'\n",
    "r = requests.get(aaplisURL)\n",
    "dfis = pd.DataFrame(r.json())"
   ]
  },
  {
   "cell_type": "code",
   "execution_count": 4,
   "id": "196d2b44",
   "metadata": {
    "execution": {
     "iopub.execute_input": "2025-04-10T19:02:57.162288Z",
     "iopub.status.busy": "2025-04-10T19:02:57.161959Z",
     "iopub.status.idle": "2025-04-10T19:02:57.166519Z",
     "shell.execute_reply": "2025-04-10T19:02:57.166040Z"
    },
    "papermill": {
     "duration": 0.009959,
     "end_time": "2025-04-10T19:02:57.168110",
     "exception": false,
     "start_time": "2025-04-10T19:02:57.158151",
     "status": "completed"
    },
    "tags": []
   },
   "outputs": [],
   "source": [
    "df_closing_price = dfAAPLclose[['date', 'closingPrice']]"
   ]
  },
  {
   "cell_type": "code",
   "execution_count": 5,
   "id": "24ae0de0",
   "metadata": {
    "execution": {
     "iopub.execute_input": "2025-04-10T19:02:57.173021Z",
     "iopub.status.busy": "2025-04-10T19:02:57.172846Z",
     "iopub.status.idle": "2025-04-10T19:02:57.235979Z",
     "shell.execute_reply": "2025-04-10T19:02:57.235742Z"
    },
    "papermill": {
     "duration": 0.066352,
     "end_time": "2025-04-10T19:02:57.236791",
     "exception": false,
     "start_time": "2025-04-10T19:02:57.170439",
     "status": "completed"
    },
    "tags": []
   },
   "outputs": [
    {
     "name": "stdout",
     "output_type": "stream",
     "text": [
      "X shape: (62, 7)\n",
      "y shape: (62,)\n",
      "Training set: (37, 7), (37,)\n",
      "Validation set: (12, 7), (12,)\n",
      "Test set: (13, 7), (13,)\n"
     ]
    },
    {
     "name": "stderr",
     "output_type": "stream",
     "text": [
      "/var/folders/8g/_56q3nhs07g6dmqp43hb7tqc0000gn/T/ipykernel_87490/2899205226.py:7: SettingWithCopyWarning: \n",
      "A value is trying to be set on a copy of a slice from a DataFrame.\n",
      "Try using .loc[row_indexer,col_indexer] = value instead\n",
      "\n",
      "See the caveats in the documentation: https://pandas.pydata.org/pandas-docs/stable/user_guide/indexing.html#returning-a-view-versus-a-copy\n",
      "  df_closing_price['date'] = pd.to_datetime(df_closing_price['date'])\n"
     ]
    }
   ],
   "source": [
    "import pandas as pd\n",
    "from sklearn.model_selection import train_test_split\n",
    "# Ensure datetime consistency\n",
    "dfe['fiscalDateEnding'] = pd.to_datetime(dfe['fiscalDateEnding'])\n",
    "dfcf['fiscalDateEnding'] = pd.to_datetime(dfcf['fiscalDateEnding'])\n",
    "dfis['fiscalDateEnding'] = pd.to_datetime(dfis['fiscalDateEnding'])\n",
    "df_closing_price['date'] = pd.to_datetime(df_closing_price['date'])\n",
    "\n",
    "# Create next quarter end date\n",
    "dfe['nextQuarterEnd'] = dfe['fiscalDateEnding'] + pd.DateOffset(months=3)\n",
    "dfcf['nextQuarterEnd'] = dfcf['fiscalDateEnding'] + pd.DateOffset(months=3)\n",
    "dfis['nextQuarterEnd'] = dfis['fiscalDateEnding'] + pd.DateOffset(months=3)\n",
    "\n",
    "# Sort by date\n",
    "dfe = dfe.sort_values('nextQuarterEnd')\n",
    "dfcf = dfcf.sort_values('nextQuarterEnd')\n",
    "dfis = dfis.sort_values('nextQuarterEnd')\n",
    "df_closing_price = df_closing_price.sort_values('date')\n",
    "\n",
    "merged_financials = pd.merge(\n",
    "    dfe[['ticker', 'fiscalDateEnding', 'nextQuarterEnd', 'reportedEPS']],\n",
    "    dfcf[['ticker', 'fiscalDateEnding', 'netIncome', 'paymentsForRepurchaseOfCommonStock', 'profitLoss']],\n",
    "    on=['ticker', 'fiscalDateEnding'],\n",
    "    how='inner'\n",
    ")\n",
    "\n",
    "# now merge the result with dfis\n",
    "merged_financials = pd.merge(\n",
    "    merged_financials,\n",
    "    dfis[['ticker', 'fiscalDateEnding', 'researchAndDevelopment', 'operatingExpenses', 'sellingGeneralAndAdministrative']],\n",
    "    on=['ticker', 'fiscalDateEnding'],\n",
    "    how='inner'\n",
    ")\n",
    "\n",
    "# Merge with closing price using merge_asof\n",
    "final_data = pd.merge_asof(\n",
    "    merged_financials,\n",
    "    df_closing_price,\n",
    "    left_on='nextQuarterEnd',\n",
    "    right_on='date',\n",
    "    direction='forward',\n",
    "    tolerance=pd.Timedelta(\"30 days\")\n",
    ")\n",
    "\n",
    "# Filter out rows without marketCap\n",
    "final_data = final_data.dropna(subset=['closingPrice']).reset_index(drop=True)\n",
    "\"\"\"\n",
    "researchAndDevelopment               0.953399\n",
    "operatingExpenses                    0.935023\n",
    "sellingGeneralAndAdministrative      0.891001\n",
    "\"\"\"\n",
    "# Define features (X) and target (y)  cashFlowFromFinancing paymentsForRepurchaseOfEquity\n",
    "features = ['reportedEPS', 'netIncome', 'paymentsForRepurchaseOfCommonStock', \n",
    "            'profitLoss',\n",
    "            'researchAndDevelopment', 'operatingExpenses', 'sellingGeneralAndAdministrative']\n",
    "X = final_data[features]\n",
    "y = final_data['closingPrice']\n",
    "\n",
    "# Verify shapes\n",
    "print(\"X shape:\", X.shape)  #\n",
    "print(\"y shape:\", y.shape)  # \n",
    "\n",
    "# Split data\n",
    "X_train, X_temp, y_train, y_temp = train_test_split(X, y, test_size=0.4, random_state=42)\n",
    "X_val, X_test, y_val, y_test = train_test_split(X_temp, y_temp, test_size=0.5, random_state=42)\n",
    "\n",
    "# Display shapes\n",
    "print(f'Training set: {X_train.shape}, {y_train.shape}')  # (34, 5), (34,)\n",
    "print(f'Validation set: {X_val.shape}, {y_val.shape}')  # (11, 5), (11,)\n",
    "print(f'Test set: {X_test.shape}, {y_test.shape}')      # (12, 5), (12,)"
   ]
  },
  {
   "cell_type": "code",
   "execution_count": 6,
   "id": "82947560",
   "metadata": {
    "execution": {
     "iopub.execute_input": "2025-04-10T19:02:57.239317Z",
     "iopub.status.busy": "2025-04-10T19:02:57.239214Z",
     "iopub.status.idle": "2025-04-10T19:02:57.300072Z",
     "shell.execute_reply": "2025-04-10T19:02:57.299795Z"
    },
    "papermill": {
     "duration": 0.063097,
     "end_time": "2025-04-10T19:02:57.300953",
     "exception": false,
     "start_time": "2025-04-10T19:02:57.237856",
     "status": "completed"
    },
    "tags": []
   },
   "outputs": [
    {
     "name": "stdout",
     "output_type": "stream",
     "text": [
      "Best params: {'C': 10, 'gamma': 0.01, 'kernel': 'rbf'}\n",
      "Validation MSE (log scale): 0.015095776818325586\n",
      "Test MSE (log scale): 0.03987756655749405\n",
      "Validation MSE (original scale): 191.21461161683396\n",
      "Test MSE (original scale): 524.6287594191847\n"
     ]
    }
   ],
   "source": [
    "from sklearn.svm import SVR\n",
    "from sklearn.model_selection import GridSearchCV\n",
    "from sklearn.preprocessing import StandardScaler\n",
    "from sklearn.metrics import mean_squared_error\n",
    "import numpy as np\n",
    "\n",
    "# Log-transform y\n",
    "y_log = np.log1p(y)\n",
    "\n",
    "# Split data\n",
    "X_train, X_temp, y_train_log, y_temp_log = train_test_split(X, y_log, test_size=0.4, random_state=42)\n",
    "X_val, X_test, y_val_log, y_test_log = train_test_split(X_temp, y_temp_log, test_size=0.5, random_state=42)\n",
    "\n",
    "# Scale features\n",
    "scaler = StandardScaler()\n",
    "X_train_scaled = scaler.fit_transform(X_train)\n",
    "X_val_scaled = scaler.transform(X_val)\n",
    "X_test_scaled = scaler.transform(X_test)\n",
    "\n",
    "# Grid search for SVR\n",
    "param_grid = {\n",
    "    'C': [10, 100, 1000],\n",
    "    'gamma': [0.01, 0.1, 1],\n",
    "    'kernel': ['rbf']\n",
    "}\n",
    "svm = SVR()\n",
    "grid_search = GridSearchCV(svm, param_grid, cv=5, scoring='neg_mean_squared_error')\n",
    "grid_search.fit(X_train_scaled, y_train_log)\n",
    "\n",
    "# Best model\n",
    "best_svm = grid_search.best_estimator_\n",
    "print(\"Best params:\", grid_search.best_params_)\n",
    "\n",
    "# Predict and evaluate on log scale\n",
    "y_val_pred_log = best_svm.predict(X_val_scaled)\n",
    "val_mse_log = mean_squared_error(y_val_log, y_val_pred_log)\n",
    "print(f\"Validation MSE (log scale): {val_mse_log}\")\n",
    "\n",
    "y_test_pred_log = best_svm.predict(X_test_scaled)\n",
    "test_mse_log = mean_squared_error(y_test_log, y_test_pred_log)\n",
    "print(f\"Test MSE (log scale): {test_mse_log}\")\n",
    "\n",
    "# Convert back to original scale\n",
    "y_val_pred = np.expm1(y_val_pred_log)\n",
    "y_test_pred = np.expm1(y_test_pred_log)\n",
    "val_mse = mean_squared_error(np.expm1(y_val_log), y_val_pred)\n",
    "test_mse = mean_squared_error(np.expm1(y_test_log), y_test_pred)\n",
    "print(f\"Validation MSE (original scale): {val_mse}\")\n",
    "print(f\"Test MSE (original scale): {test_mse}\")"
   ]
  },
  {
   "cell_type": "code",
   "execution_count": 7,
   "id": "a2d0a562",
   "metadata": {
    "execution": {
     "iopub.execute_input": "2025-04-10T19:02:57.303512Z",
     "iopub.status.busy": "2025-04-10T19:02:57.303402Z",
     "iopub.status.idle": "2025-04-10T19:02:57.306125Z",
     "shell.execute_reply": "2025-04-10T19:02:57.305909Z"
    },
    "papermill": {
     "duration": 0.004849,
     "end_time": "2025-04-10T19:02:57.306940",
     "exception": false,
     "start_time": "2025-04-10T19:02:57.302091",
     "status": "completed"
    },
    "tags": []
   },
   "outputs": [],
   "source": [
    "\n",
    "# Latest data for prediction (last row of X)\n",
    "latest_data = X.iloc[-1].to_frame().T\n",
    "\n",
    "# Scale and predict for next 2 quarters\n",
    "future_quarters = 1\n",
    "future_X = pd.DataFrame([latest_data.values[0]] * future_quarters, columns=features)\n",
    "future_X_scaled = scaler.transform(future_X)\n",
    "future_log_preds = best_svm.predict(future_X_scaled)\n",
    "future_cp_preds = np.expm1(future_log_preds)"
   ]
  },
  {
   "cell_type": "code",
   "execution_count": 8,
   "id": "869eabaa",
   "metadata": {
    "execution": {
     "iopub.execute_input": "2025-04-10T19:02:57.309268Z",
     "iopub.status.busy": "2025-04-10T19:02:57.309168Z",
     "iopub.status.idle": "2025-04-10T19:02:57.311032Z",
     "shell.execute_reply": "2025-04-10T19:02:57.310833Z"
    },
    "papermill": {
     "duration": 0.003826,
     "end_time": "2025-04-10T19:02:57.311752",
     "exception": false,
     "start_time": "2025-04-10T19:02:57.307926",
     "status": "completed"
    },
    "tags": []
   },
   "outputs": [
    {
     "name": "stdout",
     "output_type": "stream",
     "text": [
      "Projected price next quarter: 200.90589140250228 Last quarter's price: 222.13\n",
      "Projected percent change by next quarter: -10.564204189998861\n"
     ]
    }
   ],
   "source": [
    "# Predicted price, last quarter's price\n",
    "lastQuartersPrice = y.iloc[-1]\n",
    "predictedQuartersPrice = future_cp_preds[0]\n",
    "print('Projected price next quarter:' , predictedQuartersPrice , 'Last quarter\\'s price:' , lastQuartersPrice)\n",
    "print('Projected percent change by next quarter:' , (1 - lastQuartersPrice/predictedQuartersPrice) * 100)"
   ]
  },
  {
   "cell_type": "markdown",
   "id": "7dca8285",
   "metadata": {
    "tags": [
     "papermill-error-cell-tag"
    ]
   },
   "source": [
    "<span id=\"papermill-error-cell\" style=\"color:red; font-family:Helvetica Neue, Helvetica, Arial, sans-serif; font-size:2em;\">Execution using papermill encountered an exception here and stopped:</span>"
   ]
  },
  {
   "cell_type": "code",
   "execution_count": 9,
   "id": "cb197b21",
   "metadata": {
    "execution": {
     "iopub.execute_input": "2025-04-10T19:02:57.314807Z",
     "iopub.status.busy": "2025-04-10T19:02:57.314696Z",
     "iopub.status.idle": "2025-04-10T19:03:14.072243Z",
     "shell.execute_reply": "2025-04-10T19:03:14.071811Z"
    },
    "papermill": {
     "duration": 16.760261,
     "end_time": "2025-04-10T19:03:14.072971",
     "exception": true,
     "start_time": "2025-04-10T19:02:57.312710",
     "status": "failed"
    },
    "tags": []
   },
   "outputs": [
    {
     "name": "stdout",
     "output_type": "stream",
     "text": [
      "AAPL\n"
     ]
    },
    {
     "name": "stderr",
     "output_type": "stream",
     "text": [
      "/var/folders/8g/_56q3nhs07g6dmqp43hb7tqc0000gn/T/ipykernel_87490/3987019909.py:44: SettingWithCopyWarning: \n",
      "A value is trying to be set on a copy of a slice from a DataFrame.\n",
      "Try using .loc[row_indexer,col_indexer] = value instead\n",
      "\n",
      "See the caveats in the documentation: https://pandas.pydata.org/pandas-docs/stable/user_guide/indexing.html#returning-a-view-versus-a-copy\n",
      "  df_closing_price['date'] = pd.to_datetime(df_closing_price['date'])\n"
     ]
    },
    {
     "name": "stdout",
     "output_type": "stream",
     "text": [
      "Training set: (37, 7), (37,)\n",
      "Validation set: (12, 7), (12,)\n",
      "Test set: (13, 7), (13,)\n",
      "Best params: {'C': 10, 'gamma': 0.01, 'kernel': 'rbf'}\n",
      "Validation MSE (log scale): 0.015095776818325586\n",
      "Test MSE (log scale): 0.03987756655749405\n",
      "Validation MSE (original scale): 191.21461161683396\n",
      "Test MSE (original scale): 524.6287594191847\n",
      "AAPL [200.9058914]\n",
      "ACN\n"
     ]
    },
    {
     "name": "stderr",
     "output_type": "stream",
     "text": [
      "/var/folders/8g/_56q3nhs07g6dmqp43hb7tqc0000gn/T/ipykernel_87490/3987019909.py:44: SettingWithCopyWarning: \n",
      "A value is trying to be set on a copy of a slice from a DataFrame.\n",
      "Try using .loc[row_indexer,col_indexer] = value instead\n",
      "\n",
      "See the caveats in the documentation: https://pandas.pydata.org/pandas-docs/stable/user_guide/indexing.html#returning-a-view-versus-a-copy\n",
      "  df_closing_price['date'] = pd.to_datetime(df_closing_price['date'])\n"
     ]
    },
    {
     "name": "stdout",
     "output_type": "stream",
     "text": [
      "Training set: (36, 7), (36,)\n",
      "Validation set: (12, 7), (12,)\n",
      "Test set: (13, 7), (13,)\n",
      "Best params: {'C': 10, 'gamma': 0.01, 'kernel': 'rbf'}\n",
      "Validation MSE (log scale): 0.013804741152194842\n",
      "Test MSE (log scale): 0.026201648057055157\n",
      "Validation MSE (original scale): 177.93980668207942\n",
      "Test MSE (original scale): 1635.8444050624357\n",
      "ACN [325.65242373]\n",
      "ADBE\n"
     ]
    },
    {
     "name": "stderr",
     "output_type": "stream",
     "text": [
      "/var/folders/8g/_56q3nhs07g6dmqp43hb7tqc0000gn/T/ipykernel_87490/3987019909.py:44: SettingWithCopyWarning: \n",
      "A value is trying to be set on a copy of a slice from a DataFrame.\n",
      "Try using .loc[row_indexer,col_indexer] = value instead\n",
      "\n",
      "See the caveats in the documentation: https://pandas.pydata.org/pandas-docs/stable/user_guide/indexing.html#returning-a-view-versus-a-copy\n",
      "  df_closing_price['date'] = pd.to_datetime(df_closing_price['date'])\n"
     ]
    },
    {
     "name": "stdout",
     "output_type": "stream",
     "text": [
      "Training set: (4, 7), (4,)\n",
      "Validation set: (2, 7), (2,)\n",
      "Test set: (2, 7), (2,)\n"
     ]
    },
    {
     "ename": "ValueError",
     "evalue": "Cannot have number of splits n_splits=5 greater than the number of samples: n_samples=4.",
     "output_type": "error",
     "traceback": [
      "\u001b[0;31m---------------------------------------------------------------------------\u001b[0m",
      "\u001b[0;31mValueError\u001b[0m                                Traceback (most recent call last)",
      "Cell \u001b[0;32mIn[9], line 131\u001b[0m\n\u001b[1;32m    129\u001b[0m svm \u001b[38;5;241m=\u001b[39m SVR()\n\u001b[1;32m    130\u001b[0m grid_search \u001b[38;5;241m=\u001b[39m GridSearchCV(svm, param_grid, cv\u001b[38;5;241m=\u001b[39m\u001b[38;5;241m5\u001b[39m, scoring\u001b[38;5;241m=\u001b[39m\u001b[38;5;124m'\u001b[39m\u001b[38;5;124mneg_mean_squared_error\u001b[39m\u001b[38;5;124m'\u001b[39m)\n\u001b[0;32m--> 131\u001b[0m \u001b[43mgrid_search\u001b[49m\u001b[38;5;241;43m.\u001b[39;49m\u001b[43mfit\u001b[49m\u001b[43m(\u001b[49m\u001b[43mX_train_scaled\u001b[49m\u001b[43m,\u001b[49m\u001b[43m \u001b[49m\u001b[43my_train_log\u001b[49m\u001b[43m)\u001b[49m\n\u001b[1;32m    133\u001b[0m \u001b[38;5;66;03m# Best model\u001b[39;00m\n\u001b[1;32m    134\u001b[0m best_svm \u001b[38;5;241m=\u001b[39m grid_search\u001b[38;5;241m.\u001b[39mbest_estimator_\n",
      "File \u001b[0;32m~/anaconda3/lib/python3.10/site-packages/sklearn/model_selection/_search.py:874\u001b[0m, in \u001b[0;36mBaseSearchCV.fit\u001b[0;34m(self, X, y, groups, **fit_params)\u001b[0m\n\u001b[1;32m    868\u001b[0m     results \u001b[38;5;241m=\u001b[39m \u001b[38;5;28mself\u001b[39m\u001b[38;5;241m.\u001b[39m_format_results(\n\u001b[1;32m    869\u001b[0m         all_candidate_params, n_splits, all_out, all_more_results\n\u001b[1;32m    870\u001b[0m     )\n\u001b[1;32m    872\u001b[0m     \u001b[38;5;28;01mreturn\u001b[39;00m results\n\u001b[0;32m--> 874\u001b[0m \u001b[38;5;28;43mself\u001b[39;49m\u001b[38;5;241;43m.\u001b[39;49m\u001b[43m_run_search\u001b[49m\u001b[43m(\u001b[49m\u001b[43mevaluate_candidates\u001b[49m\u001b[43m)\u001b[49m\n\u001b[1;32m    876\u001b[0m \u001b[38;5;66;03m# multimetric is determined here because in the case of a callable\u001b[39;00m\n\u001b[1;32m    877\u001b[0m \u001b[38;5;66;03m# self.scoring the return type is only known after calling\u001b[39;00m\n\u001b[1;32m    878\u001b[0m first_test_score \u001b[38;5;241m=\u001b[39m all_out[\u001b[38;5;241m0\u001b[39m][\u001b[38;5;124m\"\u001b[39m\u001b[38;5;124mtest_scores\u001b[39m\u001b[38;5;124m\"\u001b[39m]\n",
      "File \u001b[0;32m~/anaconda3/lib/python3.10/site-packages/sklearn/model_selection/_search.py:1388\u001b[0m, in \u001b[0;36mGridSearchCV._run_search\u001b[0;34m(self, evaluate_candidates)\u001b[0m\n\u001b[1;32m   1386\u001b[0m \u001b[38;5;28;01mdef\u001b[39;00m\u001b[38;5;250m \u001b[39m\u001b[38;5;21m_run_search\u001b[39m(\u001b[38;5;28mself\u001b[39m, evaluate_candidates):\n\u001b[1;32m   1387\u001b[0m \u001b[38;5;250m    \u001b[39m\u001b[38;5;124;03m\"\"\"Search all candidates in param_grid\"\"\"\u001b[39;00m\n\u001b[0;32m-> 1388\u001b[0m     \u001b[43mevaluate_candidates\u001b[49m\u001b[43m(\u001b[49m\u001b[43mParameterGrid\u001b[49m\u001b[43m(\u001b[49m\u001b[38;5;28;43mself\u001b[39;49m\u001b[38;5;241;43m.\u001b[39;49m\u001b[43mparam_grid\u001b[49m\u001b[43m)\u001b[49m\u001b[43m)\u001b[49m\n",
      "File \u001b[0;32m~/anaconda3/lib/python3.10/site-packages/sklearn/model_selection/_search.py:833\u001b[0m, in \u001b[0;36mBaseSearchCV.fit.<locals>.evaluate_candidates\u001b[0;34m(candidate_params, cv, more_results)\u001b[0m\n\u001b[1;32m    813\u001b[0m \u001b[38;5;28;01mif\u001b[39;00m \u001b[38;5;28mself\u001b[39m\u001b[38;5;241m.\u001b[39mverbose \u001b[38;5;241m>\u001b[39m \u001b[38;5;241m0\u001b[39m:\n\u001b[1;32m    814\u001b[0m     \u001b[38;5;28mprint\u001b[39m(\n\u001b[1;32m    815\u001b[0m         \u001b[38;5;124m\"\u001b[39m\u001b[38;5;124mFitting \u001b[39m\u001b[38;5;132;01m{0}\u001b[39;00m\u001b[38;5;124m folds for each of \u001b[39m\u001b[38;5;132;01m{1}\u001b[39;00m\u001b[38;5;124m candidates,\u001b[39m\u001b[38;5;124m\"\u001b[39m\n\u001b[1;32m    816\u001b[0m         \u001b[38;5;124m\"\u001b[39m\u001b[38;5;124m totalling \u001b[39m\u001b[38;5;132;01m{2}\u001b[39;00m\u001b[38;5;124m fits\u001b[39m\u001b[38;5;124m\"\u001b[39m\u001b[38;5;241m.\u001b[39mformat(\n\u001b[1;32m    817\u001b[0m             n_splits, n_candidates, n_candidates \u001b[38;5;241m*\u001b[39m n_splits\n\u001b[1;32m    818\u001b[0m         )\n\u001b[1;32m    819\u001b[0m     )\n\u001b[1;32m    821\u001b[0m out \u001b[38;5;241m=\u001b[39m parallel(\n\u001b[1;32m    822\u001b[0m     delayed(_fit_and_score)(\n\u001b[1;32m    823\u001b[0m         clone(base_estimator),\n\u001b[1;32m    824\u001b[0m         X,\n\u001b[1;32m    825\u001b[0m         y,\n\u001b[1;32m    826\u001b[0m         train\u001b[38;5;241m=\u001b[39mtrain,\n\u001b[1;32m    827\u001b[0m         test\u001b[38;5;241m=\u001b[39mtest,\n\u001b[1;32m    828\u001b[0m         parameters\u001b[38;5;241m=\u001b[39mparameters,\n\u001b[1;32m    829\u001b[0m         split_progress\u001b[38;5;241m=\u001b[39m(split_idx, n_splits),\n\u001b[1;32m    830\u001b[0m         candidate_progress\u001b[38;5;241m=\u001b[39m(cand_idx, n_candidates),\n\u001b[1;32m    831\u001b[0m         \u001b[38;5;241m*\u001b[39m\u001b[38;5;241m*\u001b[39mfit_and_score_kwargs,\n\u001b[1;32m    832\u001b[0m     )\n\u001b[0;32m--> 833\u001b[0m     \u001b[38;5;28;01mfor\u001b[39;00m (cand_idx, parameters), (split_idx, (train, test)) \u001b[38;5;129;01min\u001b[39;00m \u001b[43mproduct\u001b[49m\u001b[43m(\u001b[49m\n\u001b[1;32m    834\u001b[0m \u001b[43m        \u001b[49m\u001b[38;5;28;43menumerate\u001b[39;49m\u001b[43m(\u001b[49m\u001b[43mcandidate_params\u001b[49m\u001b[43m)\u001b[49m\u001b[43m,\u001b[49m\u001b[43m \u001b[49m\u001b[38;5;28;43menumerate\u001b[39;49m\u001b[43m(\u001b[49m\u001b[43mcv\u001b[49m\u001b[38;5;241;43m.\u001b[39;49m\u001b[43msplit\u001b[49m\u001b[43m(\u001b[49m\u001b[43mX\u001b[49m\u001b[43m,\u001b[49m\u001b[43m \u001b[49m\u001b[43my\u001b[49m\u001b[43m,\u001b[49m\u001b[43m \u001b[49m\u001b[43mgroups\u001b[49m\u001b[43m)\u001b[49m\u001b[43m)\u001b[49m\n\u001b[1;32m    835\u001b[0m \u001b[43m    \u001b[49m\u001b[43m)\u001b[49m\n\u001b[1;32m    836\u001b[0m )\n\u001b[1;32m    838\u001b[0m \u001b[38;5;28;01mif\u001b[39;00m \u001b[38;5;28mlen\u001b[39m(out) \u001b[38;5;241m<\u001b[39m \u001b[38;5;241m1\u001b[39m:\n\u001b[1;32m    839\u001b[0m     \u001b[38;5;28;01mraise\u001b[39;00m \u001b[38;5;167;01mValueError\u001b[39;00m(\n\u001b[1;32m    840\u001b[0m         \u001b[38;5;124m\"\u001b[39m\u001b[38;5;124mNo fits were performed. \u001b[39m\u001b[38;5;124m\"\u001b[39m\n\u001b[1;32m    841\u001b[0m         \u001b[38;5;124m\"\u001b[39m\u001b[38;5;124mWas the CV iterator empty? \u001b[39m\u001b[38;5;124m\"\u001b[39m\n\u001b[1;32m    842\u001b[0m         \u001b[38;5;124m\"\u001b[39m\u001b[38;5;124mWere there no candidates?\u001b[39m\u001b[38;5;124m\"\u001b[39m\n\u001b[1;32m    843\u001b[0m     )\n",
      "File \u001b[0;32m~/anaconda3/lib/python3.10/site-packages/sklearn/model_selection/_split.py:345\u001b[0m, in \u001b[0;36m_BaseKFold.split\u001b[0;34m(self, X, y, groups)\u001b[0m\n\u001b[1;32m    343\u001b[0m n_samples \u001b[38;5;241m=\u001b[39m _num_samples(X)\n\u001b[1;32m    344\u001b[0m \u001b[38;5;28;01mif\u001b[39;00m \u001b[38;5;28mself\u001b[39m\u001b[38;5;241m.\u001b[39mn_splits \u001b[38;5;241m>\u001b[39m n_samples:\n\u001b[0;32m--> 345\u001b[0m     \u001b[38;5;28;01mraise\u001b[39;00m \u001b[38;5;167;01mValueError\u001b[39;00m(\n\u001b[1;32m    346\u001b[0m         (\n\u001b[1;32m    347\u001b[0m             \u001b[38;5;124m\"\u001b[39m\u001b[38;5;124mCannot have number of splits n_splits=\u001b[39m\u001b[38;5;132;01m{0}\u001b[39;00m\u001b[38;5;124m greater\u001b[39m\u001b[38;5;124m\"\u001b[39m\n\u001b[1;32m    348\u001b[0m             \u001b[38;5;124m\"\u001b[39m\u001b[38;5;124m than the number of samples: n_samples=\u001b[39m\u001b[38;5;132;01m{1}\u001b[39;00m\u001b[38;5;124m.\u001b[39m\u001b[38;5;124m\"\u001b[39m\n\u001b[1;32m    349\u001b[0m         )\u001b[38;5;241m.\u001b[39mformat(\u001b[38;5;28mself\u001b[39m\u001b[38;5;241m.\u001b[39mn_splits, n_samples)\n\u001b[1;32m    350\u001b[0m     )\n\u001b[1;32m    352\u001b[0m \u001b[38;5;28;01mfor\u001b[39;00m train, test \u001b[38;5;129;01min\u001b[39;00m \u001b[38;5;28msuper\u001b[39m()\u001b[38;5;241m.\u001b[39msplit(X, y, groups):\n\u001b[1;32m    353\u001b[0m     \u001b[38;5;28;01myield\u001b[39;00m train, test\n",
      "\u001b[0;31mValueError\u001b[0m: Cannot have number of splits n_splits=5 greater than the number of samples: n_samples=4."
     ]
    }
   ],
   "source": [
    "from sklearn.svm import SVR\n",
    "from sklearn.model_selection import GridSearchCV\n",
    "from sklearn.preprocessing import StandardScaler\n",
    "from sklearn.metrics import mean_squared_error\n",
    "import numpy as np\n",
    "import pandas as pd\n",
    "from sklearn.model_selection import train_test_split\n",
    "\n",
    "loop = 1\n",
    "if loop:\n",
    "    for t in techTickers:\n",
    "        print(t)\n",
    "        # AAPL closing price stored in dfAAPLclose\n",
    "        r = requests.get('https://swamplocksapi.azurewebsites.net/api/Financials/stocks/' + t + '/filtered_data')\n",
    "        dfAAPLclose = pd.DataFrame(r.json())\n",
    "        dfAAPLclose['date'] = pd.to_datetime(dfAAPLclose['date'])\n",
    "        dfAAPLclose = dfAAPLclose.sort_values('date')\n",
    "\n",
    "        # 'dfbs' stores AAPL's data from the balance sheet\n",
    "        aaplbsURL = 'https://swamplocksapi.azurewebsites.net/api/Financials/balancesheets/' + t\n",
    "        r = requests.get(aaplbsURL)\n",
    "        dfbs = pd.DataFrame(r.json())\n",
    "\n",
    "        # 'dfcf' stores AAPL's data from cash flow statement\n",
    "        aaplcfURL = 'https://swamplocksapi.azurewebsites.net/api/Financials/cashflowstatements/' + t\n",
    "        r = requests.get(aaplcfURL)\n",
    "        dfcf = pd.DataFrame(r.json())\n",
    "\n",
    "        # 'dfe' stores AAPL's data from earnings statement\n",
    "        aapleURL = 'https://swamplocksapi.azurewebsites.net/api/Financials/earnings/' + t\n",
    "        r = requests.get(aapleURL)\n",
    "        dfe = pd.DataFrame(r.json())\n",
    "\n",
    "        # 'dfis' stores AAPL's data from income statement\n",
    "        aaplisURL = 'https://swamplocksapi.azurewebsites.net/api/Financials/incomestatements/' + t\n",
    "        r = requests.get(aaplisURL)\n",
    "        dfis = pd.DataFrame(r.json())\n",
    "        df_closing_price = dfAAPLclose[['date', 'closingPrice']]\n",
    "\n",
    "        # Ensure datetime consistency\n",
    "        dfe['fiscalDateEnding'] = pd.to_datetime(dfe['fiscalDateEnding'])\n",
    "        dfcf['fiscalDateEnding'] = pd.to_datetime(dfcf['fiscalDateEnding'])\n",
    "        dfis['fiscalDateEnding'] = pd.to_datetime(dfis['fiscalDateEnding'])\n",
    "        df_closing_price['date'] = pd.to_datetime(df_closing_price['date'])\n",
    "\n",
    "        # Create next quarter end date\n",
    "        dfe['nextQuarterEnd'] = dfe['fiscalDateEnding'] + pd.DateOffset(months=3)\n",
    "        dfcf['nextQuarterEnd'] = dfcf['fiscalDateEnding'] + pd.DateOffset(months=3)\n",
    "        dfis['nextQuarterEnd'] = dfis['fiscalDateEnding'] + pd.DateOffset(months=3)\n",
    "\n",
    "        # Sort by date\n",
    "        dfe = dfe.sort_values('nextQuarterEnd')\n",
    "        dfcf = dfcf.sort_values('nextQuarterEnd')\n",
    "        dfis = dfis.sort_values('nextQuarterEnd')\n",
    "        df_closing_price = df_closing_price.sort_values('date')\n",
    "\n",
    "        merged_financials = pd.merge(\n",
    "            dfe[['ticker', 'fiscalDateEnding', 'nextQuarterEnd', 'reportedEPS']],\n",
    "            dfcf[['ticker', 'fiscalDateEnding', 'netIncome', 'paymentsForRepurchaseOfCommonStock', 'profitLoss']],\n",
    "            on=['ticker', 'fiscalDateEnding'],\n",
    "            how='inner'\n",
    "        )\n",
    "\n",
    "        # now merge the result with dfis\n",
    "        merged_financials = pd.merge(\n",
    "            merged_financials,\n",
    "            dfis[['ticker', 'fiscalDateEnding', 'researchAndDevelopment', 'operatingExpenses', 'sellingGeneralAndAdministrative']],\n",
    "            on=['ticker', 'fiscalDateEnding'],\n",
    "            how='inner'\n",
    "        )\n",
    "\n",
    "        # Merge with closing price using merge_asof\n",
    "        final_data = pd.merge_asof(\n",
    "            merged_financials,\n",
    "            df_closing_price,\n",
    "            left_on='nextQuarterEnd',\n",
    "            right_on='date',\n",
    "            direction='forward',\n",
    "            tolerance=pd.Timedelta(\"30 days\")\n",
    "        )\n",
    "\n",
    "        # Filter out rows without marketCap\n",
    "        final_data = final_data.dropna(subset=['closingPrice']).reset_index(drop=True)\n",
    "        \"\"\"\n",
    "        researchAndDevelopment               0.953399\n",
    "        operatingExpenses                    0.935023\n",
    "        sellingGeneralAndAdministrative      0.891001\n",
    "        \"\"\"\n",
    "        # Define features (X) and target (y)  cashFlowFromFinancing paymentsForRepurchaseOfEquity\n",
    "        features = ['reportedEPS', 'netIncome', 'paymentsForRepurchaseOfCommonStock', \n",
    "                    'profitLoss',\n",
    "                    'researchAndDevelopment', 'operatingExpenses', 'sellingGeneralAndAdministrative']\n",
    "        X = final_data[features]\n",
    "        y = final_data['closingPrice']\n",
    "\n",
    "        # Verify shapes\n",
    "        #print(\"X shape:\", X.shape)  #\n",
    "        #print(\"y shape:\", y.shape)  # \n",
    "\n",
    "        # Split data\n",
    "        X_train, X_temp, y_train, y_temp = train_test_split(X, y, test_size=0.4, random_state=42)\n",
    "        X_val, X_test, y_val, y_test = train_test_split(X_temp, y_temp, test_size=0.5, random_state=42)\n",
    "\n",
    "        # Display shapes\n",
    "        print(f'Training set: {X_train.shape}, {y_train.shape}')  # (34, 5), (34,)\n",
    "        print(f'Validation set: {X_val.shape}, {y_val.shape}')  # (11, 5), (11,)\n",
    "        print(f'Test set: {X_test.shape}, {y_test.shape}')      # (12, 5), (12,)\n",
    "\n",
    "\n",
    "        # Log-transform y\n",
    "        y_log = np.log1p(y)\n",
    "\n",
    "        # Split data\n",
    "        X_train, X_temp, y_train_log, y_temp_log = train_test_split(X, y_log, test_size=0.4, random_state=42)\n",
    "        X_val, X_test, y_val_log, y_test_log = train_test_split(X_temp, y_temp_log, test_size=0.5, random_state=42)\n",
    "\n",
    "        # Scale features\n",
    "        scaler = StandardScaler()\n",
    "        X_train_scaled = scaler.fit_transform(X_train)\n",
    "        X_val_scaled = scaler.transform(X_val)\n",
    "        X_test_scaled = scaler.transform(X_test)\n",
    "\n",
    "        # Grid search for SVR\n",
    "        param_grid = {\n",
    "            'C': [10, 100, 1000],\n",
    "            'gamma': [0.01, 0.1, 1],\n",
    "            'kernel': ['rbf']\n",
    "        }\n",
    "        svm = SVR()\n",
    "        grid_search = GridSearchCV(svm, param_grid, cv=5, scoring='neg_mean_squared_error')\n",
    "        grid_search.fit(X_train_scaled, y_train_log)\n",
    "\n",
    "        # Best model\n",
    "        best_svm = grid_search.best_estimator_\n",
    "        print(\"Best params:\", grid_search.best_params_)\n",
    "\n",
    "        # Predict and evaluate on log scale\n",
    "        y_val_pred_log = best_svm.predict(X_val_scaled)\n",
    "        val_mse_log = mean_squared_error(y_val_log, y_val_pred_log)\n",
    "        print(f\"Validation MSE (log scale): {val_mse_log}\")\n",
    "\n",
    "        y_test_pred_log = best_svm.predict(X_test_scaled)\n",
    "        test_mse_log = mean_squared_error(y_test_log, y_test_pred_log)\n",
    "        print(f\"Test MSE (log scale): {test_mse_log}\")\n",
    "\n",
    "        # Convert back to original scale\n",
    "        y_val_pred = np.expm1(y_val_pred_log)\n",
    "        y_test_pred = np.expm1(y_test_pred_log)\n",
    "        val_mse = mean_squared_error(np.expm1(y_val_log), y_val_pred)\n",
    "        test_mse = mean_squared_error(np.expm1(y_test_log), y_test_pred)\n",
    "        print(f\"Validation MSE (original scale): {val_mse}\")\n",
    "        print(f\"Test MSE (original scale): {test_mse}\")\n",
    "        # Latest data for prediction (last row of X)\n",
    "        latest_data = X.iloc[-1].to_frame().T\n",
    "\n",
    "        # Scale and predict for next 2 quarters\n",
    "        future_quarters = 1\n",
    "        future_X = pd.DataFrame([latest_data.values[0]] * future_quarters, columns=features)\n",
    "        future_X_scaled = scaler.transform(future_X)\n",
    "        future_log_preds = best_svm.predict(future_X_scaled)\n",
    "        future_cp_preds = np.expm1(future_log_preds)\n",
    "        print(t, future_cp_preds)"
   ]
  },
  {
   "cell_type": "code",
   "execution_count": null,
   "id": "021c56d8",
   "metadata": {
    "papermill": {
     "duration": null,
     "end_time": null,
     "exception": null,
     "start_time": null,
     "status": "pending"
    },
    "tags": []
   },
   "outputs": [],
   "source": []
  }
 ],
 "metadata": {
  "kernelspec": {
   "display_name": "Python 3 (ipykernel)",
   "language": "python",
   "name": "python3"
  },
  "language_info": {
   "codemirror_mode": {
    "name": "ipython",
    "version": 3
   },
   "file_extension": ".py",
   "mimetype": "text/x-python",
   "name": "python",
   "nbconvert_exporter": "python",
   "pygments_lexer": "ipython3",
   "version": "3.10.9"
  },
  "papermill": {
   "default_parameters": {},
   "duration": 24.459068,
   "end_time": "2025-04-10T19:03:14.392001",
   "environment_variables": {},
   "exception": true,
   "input_path": "ML_Prod.ipynb",
   "output_path": "ML_Prod_output.ipynb",
   "parameters": {},
   "start_time": "2025-04-10T19:02:49.932933",
   "version": "2.6.0"
  }
 },
 "nbformat": 4,
 "nbformat_minor": 5
}