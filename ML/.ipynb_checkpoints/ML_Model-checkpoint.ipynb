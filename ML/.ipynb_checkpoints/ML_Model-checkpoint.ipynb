{
 "cells": [
  {
   "cell_type": "code",
   "execution_count": 1,
   "id": "58528540",
   "metadata": {},
   "outputs": [
    {
     "name": "stdout",
     "output_type": "stream",
     "text": [
      "------------\n",
      "### Python version: 3.10.9 (main, Mar  1 2023, 12:20:14) [Clang 14.0.6 ]\n",
      "### NumPy version: 1.26.0\n",
      "### Scikit-learn version: 1.2.1\n",
      "------------\n"
     ]
    }
   ],
   "source": [
    "import sys\n",
    "import os\n",
    "import time\n",
    "\n",
    "import numpy as np\n",
    "import pandas as pd\n",
    "import sklearn\n",
    "\n",
    "from matplotlib import pyplot as plt\n",
    "plt.rcParams.update({'font.size': 16})\n",
    "\n",
    "# Let's check our software versions\n",
    "print('------------')\n",
    "print('### Python version: ' + __import__('sys').version)\n",
    "print('### NumPy version: ' + np.__version__)\n",
    "print('### Scikit-learn version: ' + sklearn.__version__)\n",
    "print('------------')\n",
    "\n",
    "def var_exists(var_name):\n",
    "    return (var_name in globals() or var_name in locals())"
   ]
  },
  {
   "cell_type": "code",
   "execution_count": 2,
   "id": "4d43d6d4",
   "metadata": {},
   "outputs": [],
   "source": [
    "import requests"
   ]
  },
  {
   "cell_type": "code",
   "execution_count": 3,
   "id": "fb5a556f",
   "metadata": {},
   "outputs": [
    {
     "name": "stdout",
     "output_type": "stream",
     "text": [
      "[{'ticker': 'AMZN', 'sectorName': 'TECH', 'sector': None, 'dataEntries': []}, {'ticker': 'GOOGL', 'sectorName': 'TECH', 'sector': None, 'dataEntries': []}]\n"
     ]
    }
   ],
   "source": [
    "r = requests.get('http://localhost:5196/api/local/stocks')\n",
    "r.status_code\n",
    "print(r.json())\n",
    "### First in terminal we went to folder 'SwampLocksAPI' and ran 'dotnet run' then we copied the localhost url into the notebook command (in red in pic) then we ran it"
   ]
  },
  {
   "cell_type": "code",
   "execution_count": 4,
   "id": "c297010b",
   "metadata": {},
   "outputs": [],
   "source": [
    "df = pd.DataFrame(r.json())"
   ]
  },
  {
   "cell_type": "code",
   "execution_count": 5,
   "id": "05752abb",
   "metadata": {},
   "outputs": [
    {
     "name": "stdout",
     "output_type": "stream",
     "text": [
      "<class 'pandas.core.frame.DataFrame'>\n",
      "RangeIndex: 2 entries, 0 to 1\n",
      "Data columns (total 4 columns):\n",
      " #   Column       Non-Null Count  Dtype \n",
      "---  ------       --------------  ----- \n",
      " 0   ticker       2 non-null      object\n",
      " 1   sectorName   2 non-null      object\n",
      " 2   sector       0 non-null      object\n",
      " 3   dataEntries  2 non-null      object\n",
      "dtypes: object(4)\n",
      "memory usage: 192.0+ bytes\n"
     ]
    }
   ],
   "source": [
    "df.info()"
   ]
  }
 ],
 "metadata": {
  "kernelspec": {
   "display_name": "Python 3 (ipykernel)",
   "language": "python",
   "name": "python3"
  },
  "language_info": {
   "codemirror_mode": {
    "name": "ipython",
    "version": 3
   },
   "file_extension": ".py",
   "mimetype": "text/x-python",
   "name": "python",
   "nbconvert_exporter": "python",
   "pygments_lexer": "ipython3",
   "version": "3.10.9"
  }
 },
 "nbformat": 4,
 "nbformat_minor": 5
}
